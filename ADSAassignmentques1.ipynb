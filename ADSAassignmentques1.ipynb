{
 "cells": [
  {
   "cell_type": "code",
   "execution_count": 2,
   "metadata": {},
   "outputs": [
    {
     "name": "stdout",
     "output_type": "stream",
     "text": [
      "Enter the number of tests:3\n",
      "Enter the value of n and k:\n",
      "64\n",
      "3\n",
      "15\n",
      "2\n",
      "10\n",
      "5\n",
      "Input\n",
      "n_k:\n",
      "64 3\n",
      "15 2\n",
      "10 5\n",
      "Output Kth Root:\n",
      "4\n",
      "3\n",
      "1\n"
     ]
    }
   ],
   "source": [
    "#Function to Find kth Root of n using Binary Search\n",
    "#Time Complexity O(nlogn)\n",
    "def kthroot(k,n):\n",
    "    high = 1\n",
    "    while power(high,k) < n:\n",
    "        high *= 2\n",
    "    low = high/2\n",
    "    while high - low > 1:\n",
    "        mid = (low + high)/2\n",
    "        midk = power(mid,k)\n",
    "        if midk < n:\n",
    "            low = mid\n",
    "        elif midk > n:\n",
    "            high = mid\n",
    "        else:\n",
    "            return mid\n",
    "    if power(high,k) == n:\n",
    "        return high\n",
    "    else:\n",
    "        return low\n",
    "#function to find power of a number    \n",
    "def power(x,y):\n",
    "    if y == 0:\n",
    "        return 1\n",
    "    if y == 1:\n",
    "        return x\n",
    "    else:\n",
    "        return(x*power(x,y-1))\n",
    "    \n",
    "#User Input\n",
    "t = int(input('Enter the number of tests:'))\n",
    "if t >= 1:\n",
    "    print('Enter the value of n and k:')\n",
    "    n_k = [[int(input()) for i in range(2)] for j in range(t)]\n",
    "    print('Input')\n",
    "    print('n_k:')\n",
    "    \n",
    "    for i in range(t):\n",
    "        for j in range(2):\n",
    "            print(n_k[i][j]),\n",
    "        print \n",
    "    print('Output Kth Root:')\n",
    "    for i in range(t):\n",
    "        n=n_k[i][0]\n",
    "        k=n_k[i][1]\n",
    "        if k > 1 & k < n:\n",
    "            print(kthroot(k,n)) \n",
    "        else:\n",
    "            print('invalid k')    \n",
    "else:\n",
    "    print('invalid t')    \n",
    "   \n",
    "   "
   ]
  },
  {
   "cell_type": "code",
   "execution_count": null,
   "metadata": {},
   "outputs": [],
   "source": []
  }
 ],
 "metadata": {
  "kernelspec": {
   "display_name": "Python 2",
   "language": "python",
   "name": "python2"
  },
  "language_info": {
   "codemirror_mode": {
    "name": "ipython",
    "version": 2
   },
   "file_extension": ".py",
   "mimetype": "text/x-python",
   "name": "python",
   "nbconvert_exporter": "python",
   "pygments_lexer": "ipython2",
   "version": "2.7.15"
  }
 },
 "nbformat": 4,
 "nbformat_minor": 2
}
